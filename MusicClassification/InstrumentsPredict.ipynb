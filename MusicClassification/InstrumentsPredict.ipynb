{
 "cells": [
  {
   "cell_type": "code",
   "execution_count": 1,
   "metadata": {},
   "outputs": [
    {
     "name": "stderr",
     "output_type": "stream",
     "text": [
      "Using TensorFlow backend.\n"
     ]
    }
   ],
   "source": [
    "import pickle\n",
    "import os\n",
    "import numpy as np\n",
    "from tqdm import tqdm\n",
    "from scipy.io import wavfile\n",
    "from python_speech_features import mfcc\n",
    "from keras.models import load_model\n",
    "import pandas as pd\n",
    "from sklearn.metrics import accuracy_score"
   ]
  },
  {
   "cell_type": "code",
   "execution_count": 2,
   "metadata": {},
   "outputs": [],
   "source": [
    "def build_predictions(audio_dir):\n",
    "    y_true=[]\n",
    "    y_pred=[]\n",
    "    fn_prob={}\n",
    "    \n",
    "    print('Extracting features from audio')\n",
    "    for fn in tqdm(os.listdir(audio_dir)):\n",
    "        rate,wav = wavfile.read(os.path.join(audio_dir,fn))\n",
    "        label = fn2class[fn]\n",
    "        c = classes.index(label)\n",
    "        y_prob=[]\n",
    "        \n",
    "        for i in range(0,wav.shape[0] - config.step, config.step):\n",
    "            sample=wav[i:i+config.step]\n",
    "            x = mfcc(sample,rate,numcep=config.nfeat, nfilt=config.nfilt, nfft=config.nfft)\n",
    "            x= (x - config.min) / (config.max - config.min)\n",
    "        \n",
    "            x = x.reshape(1,x.shape[1],x.shape[0],1)\n",
    "        \n",
    "            y_hat = model.predict(x)\n",
    "            y_prob.append(y_hat)\n",
    "            y_pred.append(np.argmax(y_hat))\n",
    "            y_true.append(c)\n",
    "\n",
    "        fn_prob[fn] = np.mean(y_prob,axis=0).flatten()\n",
    "    return y_true,y_pred, fn_prob"
   ]
  },
  {
   "cell_type": "code",
   "execution_count": 3,
   "metadata": {},
   "outputs": [],
   "source": [
    "df = pd.read_csv('instruments.csv')\n",
    "classes = list(np.unique(df.label))\n",
    "fn2class = dict(zip(df.fname, df.label))\n",
    "p_path = os.path.join('pickles','conv.p')\n",
    "\n",
    "with open(p_path,'rb') as handle:\n",
    "    config = pickle.load(handle)\n",
    "\n",
    "model = load_model(config.model_path)"
   ]
  },
  {
   "cell_type": "code",
   "execution_count": 5,
   "metadata": {},
   "outputs": [
    {
     "name": "stderr",
     "output_type": "stream",
     "text": [
      "  0%|          | 0/300 [00:00<?, ?it/s]"
     ]
    },
    {
     "name": "stdout",
     "output_type": "stream",
     "text": [
      "Extracting features from audio\n"
     ]
    },
    {
     "name": "stderr",
     "output_type": "stream",
     "text": [
      "100%|██████████| 300/300 [00:49<00:00,  6.10it/s]\n"
     ]
    }
   ],
   "source": [
    "y_true, y_pred, fn_prob = build_predictions('cleaned/')\n",
    "acc_score = accuracy_score(y_true=y_true, y_pred=y_pred)\n",
    "\n",
    "y_probs = []\n",
    "for i, row in df.iterrows():\n",
    "    y_prob = fn_prob[row.fname]\n",
    "    y_probs.append(y_prob)\n",
    "    for c,p in zip(classes,y_prob):\n",
    "        df.at[i,c] =p\n",
    "\n",
    "y_pred = [classes[np.argmax(y)] for y in y_probs]"
   ]
  },
  {
   "cell_type": "code",
   "execution_count": 6,
   "metadata": {},
   "outputs": [],
   "source": [
    "df['y_pred'] = y_pred"
   ]
  },
  {
   "cell_type": "code",
   "execution_count": 7,
   "metadata": {},
   "outputs": [],
   "source": [
    "df.to_csv('predictions.csv',index=False)"
   ]
  },
  {
   "cell_type": "code",
   "execution_count": null,
   "metadata": {},
   "outputs": [],
   "source": []
  }
 ],
 "metadata": {
  "kernelspec": {
   "display_name": "Python 3",
   "language": "python",
   "name": "python3"
  },
  "language_info": {
   "codemirror_mode": {
    "name": "ipython",
    "version": 3
   },
   "file_extension": ".py",
   "mimetype": "text/x-python",
   "name": "python",
   "nbconvert_exporter": "python",
   "pygments_lexer": "ipython3",
   "version": "3.6.9"
  }
 },
 "nbformat": 4,
 "nbformat_minor": 4
}
