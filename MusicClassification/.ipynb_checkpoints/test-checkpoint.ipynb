{
 "cells": [
  {
   "cell_type": "code",
   "execution_count": 6,
   "metadata": {},
   "outputs": [
    {
     "name": "stderr",
     "output_type": "stream",
     "text": [
      "Using TensorFlow backend.\n"
     ]
    }
   ],
   "source": [
    "import tensorflow as tf\n",
    "from tensorflow import keras\n",
    "import os\n",
    "import numpy as np\n",
    "from tqdm import tqdm\n",
    "import librosa\n",
    "from numba import cuda\n",
    "import librosa.display\n",
    "import gc\n",
    "import matplotlib.pyplot as plt\n",
    "import matplotlib.image as mpimg \n",
    "from sklearn.preprocessing import LabelEncoder\n",
    "from scipy import signal\n",
    "from scipy.io import wavfile as wav\n",
    "from numpy.lib import stride_tricks\n",
    "from keras.layers import Conv2D, MaxPool2D, Flatten, LSTM, Dense, Dropout\n",
    "from keras.models import Sequential\n",
    "from keras.utils import to_categorical\n",
    "import pandas as pd"
   ]
  },
  {
   "cell_type": "code",
   "execution_count": 2,
   "metadata": {},
   "outputs": [],
   "source": [
    "from PIL import Image"
   ]
  },
  {
   "cell_type": "code",
   "execution_count": 12,
   "metadata": {},
   "outputs": [
    {
     "data": {
      "text/plain": [
       "['00353774.jpg',\n",
       " '0091fc7f.jpg',\n",
       " '01c2f88b.jpg',\n",
       " '0286fc27.jpg',\n",
       " '0356dec7.jpg',\n",
       " '03fc1f96.jpg',\n",
       " '06c48eab.jpg',\n",
       " '078f7ac0.jpg',\n",
       " '07db7f16.jpg',\n",
       " '09a1cfd7.jpg',\n",
       " '0c67f402.jpg',\n",
       " '0ddb4bdf.jpg',\n",
       " '0e7cd4eb.jpg',\n",
       " '0ed06544.jpg',\n",
       " '0eeaebcb.jpg',\n",
       " '103f29e5.jpg',\n",
       " '10da16fb.jpg',\n",
       " '1148986e.jpg',\n",
       " '125e6ccf.jpg',\n",
       " '13da16ae.jpg',\n",
       " '160c92d7.jpg',\n",
       " '16c9a838.jpg',\n",
       " '17f82c05.jpg',\n",
       " '18865530.jpg',\n",
       " '19105b8a.jpg',\n",
       " '195f544d.jpg',\n",
       " '19893aa8.jpg',\n",
       " '1a7d3f2d.jpg',\n",
       " '1b24c166.jpg',\n",
       " '1b93aeba.jpg',\n",
       " '1bc8eae1.jpg',\n",
       " '1c9a423f.jpg',\n",
       " '1e3391d5.jpg',\n",
       " '1f81cc2b.jpg',\n",
       " '2016d256.jpg',\n",
       " '2032be87.jpg',\n",
       " '21346775.jpg',\n",
       " '229be2be.jpg',\n",
       " '22bea889.jpg',\n",
       " '22e1c02c.jpg',\n",
       " '236cbab1.jpg',\n",
       " '238b16a5.jpg',\n",
       " '2424ad60.jpg',\n",
       " '2503aaa1.jpg',\n",
       " '25f26095.jpg',\n",
       " '2ac8b94f.jpg',\n",
       " '2cc8683d.jpg',\n",
       " '2da9e12a.jpg',\n",
       " '2e1cd085.jpg',\n",
       " '2e4a9850.jpg',\n",
       " '2f9c5f62.jpg',\n",
       " '2fc00271.jpg',\n",
       " '31db8c5e.jpg',\n",
       " '31dbc5c0.jpg',\n",
       " '32dee61b.jpg',\n",
       " '34747922.jpg',\n",
       " '34a90030.jpg',\n",
       " '34e4d187.jpg',\n",
       " '35039ae1.jpg',\n",
       " '35e97db3.jpg',\n",
       " '367ad7b1.jpg',\n",
       " '36d06cc0.jpg',\n",
       " '36d20ab5.jpg',\n",
       " '3707da71.jpg',\n",
       " '37cebbd4.jpg',\n",
       " '38216fad.jpg',\n",
       " '3a3d0279.jpg',\n",
       " '3a80061f.jpg',\n",
       " '3a9085ca.jpg',\n",
       " '3aafb6ad.jpg',\n",
       " '3c66098d.jpg',\n",
       " '3c713bcf.jpg',\n",
       " '3cbe9902.jpg',\n",
       " '3d3439f1.jpg',\n",
       " '3e2bddda.jpg',\n",
       " '3eaddda8.jpg',\n",
       " '3f7e6da8.jpg',\n",
       " '41897c32.jpg',\n",
       " '4345851e.jpg',\n",
       " '444f9db5.jpg',\n",
       " '44c5094c.jpg',\n",
       " '44fb3eeb.jpg',\n",
       " '45de3233.jpg',\n",
       " '462b676f.jpg',\n",
       " '468f9c4c.jpg',\n",
       " '46b52f97.jpg',\n",
       " '493c247b.jpg',\n",
       " '4ba2b70e.jpg',\n",
       " '4bcc8a77.jpg',\n",
       " '4bff8f32.jpg',\n",
       " '4c4d4797.jpg',\n",
       " '4c590f69.jpg',\n",
       " '4fb480bf.jpg',\n",
       " '4fd883bb.jpg',\n",
       " '52300f9b.jpg',\n",
       " '52e54bdd.jpg',\n",
       " '5388d14d.jpg',\n",
       " '5506629f.jpg',\n",
       " '55822aae.jpg',\n",
       " '55d52a69.jpg',\n",
       " '562d93f5.jpg',\n",
       " '565f3ee2.jpg',\n",
       " '5689818f.jpg',\n",
       " '56e79c6f.jpg',\n",
       " '595c191d.jpg',\n",
       " '5c33d972.jpg',\n",
       " '5ce40b1b.jpg',\n",
       " '5d040c3b.jpg',\n",
       " '5d4f8187.jpg',\n",
       " '5d73ee6f.jpg',\n",
       " '5de123c3.jpg',\n",
       " '5e5bca7a.jpg',\n",
       " '5eadbc6d.jpg',\n",
       " '5ec7ad26.jpg',\n",
       " '5f0dc8e4.jpg',\n",
       " '612702c3.jpg',\n",
       " '61c914b1.jpg',\n",
       " '63e0ab2c.jpg',\n",
       " '642aba58.jpg',\n",
       " '642ad7e4.jpg',\n",
       " '673defaf.jpg',\n",
       " '68589f79.jpg',\n",
       " '6a037ddf.jpg',\n",
       " '6a210ffa.jpg',\n",
       " '6a96272b.jpg',\n",
       " '6b27a847.jpg',\n",
       " '6d21ad67.jpg',\n",
       " '6eb59008.jpg',\n",
       " '6ef82473.jpg',\n",
       " '6efbaf90.jpg',\n",
       " '6fca680b.jpg',\n",
       " '70ca9c77.jpg',\n",
       " '71c6451f.jpg',\n",
       " '7352e28f.jpg',\n",
       " '73677128.jpg',\n",
       " '740e5bb7.jpg',\n",
       " '743ae0f9.jpg',\n",
       " '7506dcc4.jpg',\n",
       " '78a86075.jpg',\n",
       " '7b6a119e.jpg',\n",
       " '7d11b3b4.jpg',\n",
       " '7d896090.jpg',\n",
       " '7dda9dc2.jpg',\n",
       " '7eb959ec.jpg',\n",
       " '7eb9dac0.jpg',\n",
       " '800b401e.jpg',\n",
       " '8073923c.jpg',\n",
       " '809ea09e.jpg',\n",
       " '811bf309.jpg',\n",
       " '81d9f077.jpg',\n",
       " '82d4fb44.jpg',\n",
       " '848faca3.jpg',\n",
       " '84f5b84b.jpg',\n",
       " '85d6a7d2.jpg',\n",
       " '88500b88.jpg',\n",
       " '88780eac.jpg',\n",
       " '8916ffcd.jpg',\n",
       " '8986cced.jpg',\n",
       " '8b6a16de.jpg',\n",
       " '8cd809d3.jpg',\n",
       " '8ce2e863.jpg',\n",
       " '8d7d7dba.jpg',\n",
       " '8da75280.jpg',\n",
       " '8ee44fb5.jpg',\n",
       " '8fa096bf.jpg',\n",
       " '921eee9d.jpg',\n",
       " '9320c55f.jpg',\n",
       " '95e1d0ae.jpg',\n",
       " '96dad435.jpg',\n",
       " '9923ddf8.jpg',\n",
       " '99c96a07.jpg',\n",
       " '9a4bfb69.jpg',\n",
       " '9a722e53.jpg',\n",
       " '9adffd44.jpg',\n",
       " '9c0838c1.jpg',\n",
       " '9cd05a2b.jpg',\n",
       " '9d308738.jpg',\n",
       " '9dd0141c.jpg',\n",
       " '9e3bc1b6.jpg',\n",
       " '9f522cda.jpg',\n",
       " '9f6eac9c.jpg',\n",
       " '9f84ea5a.jpg',\n",
       " 'a053797b.jpg',\n",
       " 'a090c45a.jpg',\n",
       " 'a0cbe92e.jpg',\n",
       " 'a1b369d7.jpg',\n",
       " 'a25423a8.jpg',\n",
       " 'a59b5a08.jpg',\n",
       " 'a64a3740.jpg',\n",
       " 'a6728901.jpg',\n",
       " 'a7964699.jpg',\n",
       " 'aa9ae956.jpg',\n",
       " 'aab28420.jpg',\n",
       " 'ab465bf9.jpg',\n",
       " 'ab8e8ae3.jpg',\n",
       " 'ac097834.jpg',\n",
       " 'ad42e493.jpg',\n",
       " 'ad7ec8cb.jpg',\n",
       " 'ae7d1c37.jpg',\n",
       " 'aed9d22f.jpg',\n",
       " 'af227d6f.jpg',\n",
       " 'b0c06255.jpg',\n",
       " 'b0d9849d.jpg',\n",
       " 'b120dc90.jpg',\n",
       " 'b218444c.jpg',\n",
       " 'b2261238.jpg',\n",
       " 'b31ed1fb.jpg',\n",
       " 'b38409bb.jpg',\n",
       " 'b428466c.jpg',\n",
       " 'b4b2b68d.jpg',\n",
       " 'b68f10af.jpg',\n",
       " 'b6cbc6a9.jpg',\n",
       " 'b73c3595.jpg',\n",
       " 'b83049f4.jpg',\n",
       " 'b86b5a96.jpg',\n",
       " 'b88322f6.jpg',\n",
       " 'b8c0a88a.jpg',\n",
       " 'ba648ac1.jpg',\n",
       " 'bab98261.jpg',\n",
       " 'bb1f5874.jpg',\n",
       " 'bea51ca5.jpg',\n",
       " 'c0ddf010.jpg',\n",
       " 'c11bacda.jpg',\n",
       " 'c153f347.jpg',\n",
       " 'c1948f24.jpg',\n",
       " 'c1c3c8b9.jpg',\n",
       " 'c40632d7.jpg',\n",
       " 'c53a217e.jpg',\n",
       " 'c683f28f.jpg',\n",
       " 'c685f05f.jpg',\n",
       " 'c6865306.jpg',\n",
       " 'c7846d27.jpg',\n",
       " 'c840804f.jpg',\n",
       " 'c8c117dc.jpg',\n",
       " 'c8ecbbfd.jpg',\n",
       " 'c9fb642d.jpg',\n",
       " 'ca348cbb.jpg',\n",
       " 'ca3f3698.jpg',\n",
       " 'ca8653d2.jpg',\n",
       " 'cae0d841.jpg',\n",
       " 'cbc8d551.jpg',\n",
       " 'cdc5fe8e.jpg',\n",
       " 'cdeece57.jpg',\n",
       " 'cdfc8967.jpg',\n",
       " 'ce3f3400.jpg',\n",
       " 'ce65d6b5.jpg',\n",
       " 'ce75b5ce.jpg',\n",
       " 'cfb9c5fd.jpg',\n",
       " 'd14f5df1.jpg',\n",
       " 'd328db67.jpg',\n",
       " 'd6144e01.jpg',\n",
       " 'd6665734.jpg',\n",
       " 'd6854eb4.jpg',\n",
       " 'd84c8c43.jpg',\n",
       " 'd8a257e5.jpg',\n",
       " 'd914225a.jpg',\n",
       " 'd94c94f0.jpg',\n",
       " 'da3f8050.jpg',\n",
       " 'da4b0379.jpg',\n",
       " 'da8ea649.jpg',\n",
       " 'dba6817d.jpg',\n",
       " 'dc5be9d7.jpg',\n",
       " 'dc6676ff.jpg',\n",
       " 'dc981a38.jpg',\n",
       " 'ddf23920.jpg',\n",
       " 'deb87700.jpg',\n",
       " 'e0ecd1a6.jpg',\n",
       " 'e2d993ec.jpg',\n",
       " 'e3f479f3.jpg',\n",
       " 'e43f7db2.jpg',\n",
       " 'e4958adc.jpg',\n",
       " 'e51e1770.jpg',\n",
       " 'e55c5160.jpg',\n",
       " 'e6597186.jpg',\n",
       " 'e70c41d4.jpg',\n",
       " 'e897db78.jpg',\n",
       " 'e8e00924.jpg',\n",
       " 'e92bf0fa.jpg',\n",
       " 'e97d9707.jpg',\n",
       " 'ec6afeb6.jpg',\n",
       " 'f042282c.jpg',\n",
       " 'f0727eac.jpg',\n",
       " 'f0d315bc.jpg',\n",
       " 'f0dfe343.jpg',\n",
       " 'f1754aea.jpg',\n",
       " 'f2310f0d.jpg',\n",
       " 'f26131d8.jpg',\n",
       " 'f5e20dce.jpg',\n",
       " 'f63f3703.jpg',\n",
       " 'f8a99b37.jpg',\n",
       " 'f8d96888.jpg',\n",
       " 'f9653de8.jpg',\n",
       " 'fa32109e.jpg',\n",
       " 'fa4d4a92.jpg',\n",
       " 'fc55d588.jpg',\n",
       " 'fcfafbc8.jpg',\n",
       " 'fe76c972.jpg',\n",
       " 'fec00143.jpg',\n",
       " 'ff11628d.jpg',\n",
       " 'ff3f21e7.jpg']"
      ]
     },
     "execution_count": 12,
     "metadata": {},
     "output_type": "execute_result"
    }
   ],
   "source": [
    "os.listdir('./spectrograms/')"
   ]
  },
  {
   "cell_type": "code",
   "execution_count": 20,
   "metadata": {},
   "outputs": [],
   "source": [
    "image = Image.open('./spectrograms/1c9a423f.jpg')"
   ]
  },
  {
   "cell_type": "code",
   "execution_count": 21,
   "metadata": {},
   "outputs": [],
   "source": [
    "im2arr = np.array(image) # im2arr.shape: height x width x channel\n",
    "# arr2im = Image.fromarray(im2arr)\n",
    "# arr2im.show()"
   ]
  },
  {
   "cell_type": "code",
   "execution_count": 2,
   "metadata": {},
   "outputs": [],
   "source": [
    "gpus = tf.config.experimental.list_physical_devices('GPU')"
   ]
  },
  {
   "cell_type": "code",
   "execution_count": 3,
   "metadata": {},
   "outputs": [],
   "source": [
    "configuration = tf.compat.v1.ConfigProto()\n",
    "configuration.gpu_options.per_process_gpu_memory_fraction = 0.5\n",
    "tf.config.experimental.set_memory_growth(gpus[0],True)\n",
    "session = tf.compat.v1.Session(config=configuration)"
   ]
  },
  {
   "cell_type": "code",
   "execution_count": 4,
   "metadata": {},
   "outputs": [],
   "source": [
    "df = pd.read_csv('instruments.csv')\n",
    "# df.set_index('fname', inplace=True)\n",
    "\n",
    "# for f in df.index:\n",
    "#     signal, rate = librosa.load('./cleaned/'+f)\n",
    "#     df.at[f, 'length'] = signal.shape[0]/rate\n",
    "\n",
    "# classes = list(np.unique(df.label))\n",
    "# class_dist = df.groupby(['label'])['length'].mean()\n",
    "\n",
    "# n_samples = 2 * int(df['length'].sum()/0.1)\n",
    "# prob_dist = class_dist /class_dist.sum()\n",
    "# choices = np.random.choice(class_dist.index, p=prob_dist)\n",
    "\n",
    "\n",
    "\n",
    "# fig, ax = plt.subplots()\n",
    "# ax.set_title('Class Distribution', y=1.08)\n",
    "# ax.pie(class_dist, labels=class_dist.index, autopct='%1.1f%%',\n",
    "#        shadow=False, startangle=90)\n",
    "# ax.axis('equal')\n",
    "# plt.show()"
   ]
  },
  {
   "cell_type": "code",
   "execution_count": null,
   "metadata": {},
   "outputs": [],
   "source": [
    "classname =df[df.fname == \"5388d14d.wav\"].label.values"
   ]
  },
  {
   "cell_type": "code",
   "execution_count": null,
   "metadata": {},
   "outputs": [],
   "source": [
    "classname[0]"
   ]
  },
  {
   "cell_type": "code",
   "execution_count": null,
   "metadata": {},
   "outputs": [],
   "source": [
    "def read_audio(conf, pathname, trim_long_data):\n",
    "    y, sr = librosa.load(pathname, sr=conf.sampling_rate)\n",
    "    # trim silence\n",
    "    if 0 < len(y): # workaround: 0 length causes error\n",
    "        y, _ = librosa.effects.trim(y) # trim, top_db=default(60)\n",
    "    # make it unified length to conf.samples\n",
    "    if len(y) > conf.samples: # long enough\n",
    "        if trim_long_data:\n",
    "            y = y[0:0+conf.samples]\n",
    "    else: # pad blank\n",
    "        padding = conf.samples - len(y)    # add padding at both ends\n",
    "        offset = padding // 2\n",
    "        y = np.pad(y, (offset, conf.samples - len(y) - offset), 'constant')\n",
    "    return y"
   ]
  },
  {
   "cell_type": "code",
   "execution_count": null,
   "metadata": {},
   "outputs": [],
   "source": [
    "def audio_to_melspectrogram(conf, audio):\n",
    "    spectrogram = librosa.feature.melspectrogram(audio, \n",
    "                                                 sr=conf.sampling_rate,\n",
    "                                                 n_mels=conf.n_mels,\n",
    "                                                 hop_length=conf.hop_length,\n",
    "                                                 n_fft=conf.n_fft,\n",
    "                                                 fmin=conf.fmin,\n",
    "                                                 fmax=conf.fmax)\n",
    "    spectrogram = librosa.power_to_db(spectrogram)\n",
    "    spectrogram = spectrogram.astype(np.float32)\n",
    "    return spectrogram"
   ]
  },
  {
   "cell_type": "code",
   "execution_count": null,
   "metadata": {},
   "outputs": [],
   "source": [
    "def read_as_melspectrogram(conf, pathname, trim_long_data, debug_display=False):\n",
    "    x = read_audio(conf, pathname, trim_long_data)\n",
    "    mels = audio_to_melspectrogram(conf, x)\n",
    "    return mels"
   ]
  },
  {
   "cell_type": "code",
   "execution_count": null,
   "metadata": {},
   "outputs": [],
   "source": [
    "class conf:\n",
    "    sampling_rate = 44100\n",
    "    duration = 2\n",
    "    hop_length = 347*duration # to make time steps 128\n",
    "    fmin = 20\n",
    "    fmax = sampling_rate // 2\n",
    "    n_mels = 128\n",
    "    n_fft = n_mels * 20\n",
    "    samples = sampling_rate * duration"
   ]
  },
  {
   "cell_type": "code",
   "execution_count": null,
   "metadata": {},
   "outputs": [],
   "source": [
    "def save_image_from_sound(img_path):\n",
    "    filename = rename_file(img_path)\n",
    "    x = read_as_melspectrogram(conf, img_path, trim_long_data=True, debug_display=True)\n",
    "    \n",
    "    plt.imshow(x, interpolation='nearest')\n",
    "    #plt.savefig('./spectrograms/' + filename)\n",
    "    \n",
    "    plt.close()\n",
    "    del x\n",
    "    gc.collect()"
   ]
  },
  {
   "cell_type": "code",
   "execution_count": null,
   "metadata": {},
   "outputs": [],
   "source": [
    "def rename_file(img_name):\n",
    "    img_name = img_name.split(\"/\")[2]\n",
    "    img_name = img_name[:-4]\n",
    "    img_name += \".jpg\"\n",
    "    return img_name"
   ]
  },
  {
   "cell_type": "code",
   "execution_count": null,
   "metadata": {},
   "outputs": [],
   "source": [
    "\n",
    "for i, fn in enumerate(os.listdir('./cleaned/')):\n",
    "    print(i)\n",
    "    path = './cleaned/' + fn\n",
    "    save_image_from_sound(path)"
   ]
  },
  {
   "cell_type": "code",
   "execution_count": 5,
   "metadata": {},
   "outputs": [],
   "source": [
    "images = os.listdir('./spectrograms/')"
   ]
  },
  {
   "cell_type": "code",
   "execution_count": 6,
   "metadata": {},
   "outputs": [],
   "source": [
    "temp = images[0].split('.')"
   ]
  },
  {
   "cell_type": "code",
   "execution_count": 7,
   "metadata": {},
   "outputs": [],
   "source": [
    "wavFile = temp[0] + '.wav'"
   ]
  },
  {
   "cell_type": "code",
   "execution_count": 8,
   "metadata": {},
   "outputs": [
    {
     "data": {
      "text/plain": [
       "'00353774.wav'"
      ]
     },
     "execution_count": 8,
     "metadata": {},
     "output_type": "execute_result"
    }
   ],
   "source": [
    "wavFile"
   ]
  },
  {
   "cell_type": "code",
   "execution_count": 17,
   "metadata": {},
   "outputs": [],
   "source": [
    "def build_feats():\n",
    "    X = []\n",
    "    Y = []\n",
    "    for image in tqdm(os.listdir('./spectrograms/')):\n",
    "        print(image)\n",
    "        X.append(mpimg.imread('./spectrograms/' + image))\n",
    "        temp = image.split('.')\n",
    "        wavFile = temp[0] + '.wav'\n",
    "        \n",
    "        classname =df[df.fname == wavFile].label.values\n",
    "        Y.append(classname[0])\n",
    "    \n",
    "    X = np.asarray(X)\n",
    "    return X,Y"
   ]
  },
  {
   "cell_type": "code",
   "execution_count": null,
   "metadata": {},
   "outputs": [],
   "source": [
    "X,Y = build_feats()"
   ]
  },
  {
   "cell_type": "code",
   "execution_count": null,
   "metadata": {},
   "outputs": [],
   "source": [
    "Y = np.asarray(Y)"
   ]
  },
  {
   "cell_type": "code",
   "execution_count": null,
   "metadata": {},
   "outputs": [],
   "source": [
    "Y = Y.flatten()"
   ]
  },
  {
   "cell_type": "code",
   "execution_count": null,
   "metadata": {},
   "outputs": [],
   "source": [
    "label_encoder = LabelEncoder()\n",
    "Y = label_encoder.fit_transform(Y)"
   ]
  },
  {
   "cell_type": "code",
   "execution_count": null,
   "metadata": {},
   "outputs": [],
   "source": [
    "labels = tf.keras.utils.to_categorical(Y,num_classes=10)"
   ]
  },
  {
   "cell_type": "code",
   "execution_count": null,
   "metadata": {},
   "outputs": [],
   "source": [
    "def get_conv_model():\n",
    "    model = Sequential()\n",
    "    model.add(Conv2D(64,kernel_size=3, activation = 'relu', input_shape=(288,432,3)))\n",
    "    model.add(Conv2D(32,kernel_size=3, activation = 'relu'))\n",
    "#     model.add(Conv2D(64,(3,3), activation = 'relu', strides=(1,1),\n",
    "#                     padding ='same'))\n",
    "#     model.add(Conv2D(128,(3,3), activation = 'relu', strides=(1,1),\n",
    "#                     padding ='same'))\n",
    "    model.add(MaxPool2D((2,2)))\n",
    "    model.add(Dropout(0.5))\n",
    "    model.add(Flatten())\n",
    "    model.add(Dense(32,activation='relu'))\n",
    "#     model.add(Dense(64, activation ='relu'))\n",
    "    model.add(Dense(10, activation='softmax'))\n",
    "    model.summary()\n",
    "    model.compile(loss='categorical_crossentropy', optimizer='adam', metrics=['acc'])\n",
    "    print(type(model))\n",
    "    return model"
   ]
  },
  {
   "cell_type": "code",
   "execution_count": null,
   "metadata": {},
   "outputs": [],
   "source": [
    "conv_model = get_conv_model()"
   ]
  },
  {
   "cell_type": "code",
   "execution_count": null,
   "metadata": {},
   "outputs": [],
   "source": [
    "labels"
   ]
  },
  {
   "cell_type": "code",
   "execution_count": null,
   "metadata": {},
   "outputs": [],
   "source": [
    "X[3]"
   ]
  },
  {
   "cell_type": "code",
   "execution_count": null,
   "metadata": {
    "scrolled": false
   },
   "outputs": [],
   "source": [
    "cnnScores = conv_model.fit(X,labels,epochs=100, batch_size=20, shuffle=True, validation_split=0.1)"
   ]
  },
  {
   "cell_type": "code",
   "execution_count": null,
   "metadata": {},
   "outputs": [],
   "source": [
    "cnnScores"
   ]
  },
  {
   "cell_type": "code",
   "execution_count": null,
   "metadata": {},
   "outputs": [],
   "source": [
    "import matplotlib.pyplot as pyplot"
   ]
  },
  {
   "cell_type": "code",
   "execution_count": null,
   "metadata": {},
   "outputs": [],
   "source": [
    "fig = pyplot.figure()\n",
    "fig.suptitle('CNN LOSS', fontsize=14)\n",
    "# pyplot.plot(cnnScores.history['val_loss'],label=\"CNN Train\", color=\"red\")\n",
    "pyplot.plot(cnnScores.history['loss'],label=\"CNN Train\", color=\"green\")\n",
    "\n",
    "pyplot.xlabel('epoch')\n",
    "pyplot.ylabel('loss(CE)')\n",
    "pyplot.legend()\n",
    "pyplot.show()"
   ]
  },
  {
   "cell_type": "code",
   "execution_count": null,
   "metadata": {},
   "outputs": [],
   "source": [
    "cuda.select_device(0)\n",
    "cuda.close()"
   ]
  },
  {
   "cell_type": "code",
   "execution_count": null,
   "metadata": {},
   "outputs": [],
   "source": []
  }
 ],
 "metadata": {
  "kernelspec": {
   "display_name": "Python 3",
   "language": "python",
   "name": "python3"
  },
  "language_info": {
   "codemirror_mode": {
    "name": "ipython",
    "version": 3
   },
   "file_extension": ".py",
   "mimetype": "text/x-python",
   "name": "python",
   "nbconvert_exporter": "python",
   "pygments_lexer": "ipython3",
   "version": "3.7.7"
  }
 },
 "nbformat": 4,
 "nbformat_minor": 4
}
