{
 "cells": [
  {
   "cell_type": "code",
   "execution_count": 1,
   "metadata": {},
   "outputs": [
    {
     "name": "stderr",
     "output_type": "stream",
     "text": [
      "Using TensorFlow backend.\n"
     ]
    }
   ],
   "source": [
    "import tensorflow as tf\n",
    "from tensorflow import keras\n",
    "import os\n",
    "import numpy as np\n",
    "from tqdm import tqdm\n",
    "import librosa\n",
    "from numba import cuda\n",
    "import librosa.display\n",
    "import gc\n",
    "import matplotlib.pyplot as plt\n",
    "import matplotlib.image as mpimg \n",
    "from sklearn.preprocessing import LabelEncoder\n",
    "from scipy import signal\n",
    "from scipy.io import wavfile as wav\n",
    "from numpy.lib import stride_tricks\n",
    "from keras.layers import Conv2D, MaxPool2D, Flatten, LSTM, Dense, Dropout\n",
    "from keras.models import Sequential\n",
    "from keras.utils import to_categorical\n",
    "from keras.preprocessing.image import ImageDataGenerator\n",
    "import pandas as pd"
   ]
  },
  {
   "cell_type": "code",
   "execution_count": 2,
   "metadata": {},
   "outputs": [],
   "source": [
    "gpus = tf.config.experimental.list_physical_devices('GPU')"
   ]
  },
  {
   "cell_type": "code",
   "execution_count": 3,
   "metadata": {},
   "outputs": [],
   "source": [
    "configuration = tf.compat.v1.ConfigProto()\n",
    "configuration.gpu_options.per_process_gpu_memory_fraction = 0.5\n",
    "tf.config.experimental.set_memory_growth(gpus[0],True)\n",
    "session = tf.compat.v1.Session(config=configuration)"
   ]
  },
  {
   "cell_type": "code",
   "execution_count": 4,
   "metadata": {},
   "outputs": [],
   "source": [
    "df = pd.read_csv('instruments.csv')"
   ]
  },
  {
   "cell_type": "code",
   "execution_count": 5,
   "metadata": {},
   "outputs": [],
   "source": [
    "def build_feats():\n",
    "    X = []\n",
    "    Y = []\n",
    "    for image in tqdm(os.listdir('./spectrograms2/')):\n",
    "        X.append(mpimg.imread('./spectrograms2/' + image))\n",
    "        temp = image.split('.')\n",
    "        wavFile = temp[0] + '.wav'\n",
    "        \n",
    "        classname =df[df.fname == wavFile].label.values\n",
    "        Y.append(classname[0])\n",
    "    \n",
    "    X = np.asarray(X)\n",
    "    return X,Y"
   ]
  },
  {
   "cell_type": "code",
   "execution_count": 6,
   "metadata": {},
   "outputs": [
    {
     "name": "stderr",
     "output_type": "stream",
     "text": [
      "100%|███████████████████████████████████████| 300/300 [00:00<00:00, 497.50it/s]\n"
     ]
    }
   ],
   "source": [
    "trainX,trainY = build_feats()"
   ]
  },
  {
   "cell_type": "code",
   "execution_count": 7,
   "metadata": {},
   "outputs": [
    {
     "data": {
      "text/plain": [
       "(300, 288, 432, 3)"
      ]
     },
     "execution_count": 7,
     "metadata": {},
     "output_type": "execute_result"
    }
   ],
   "source": [
    "trainX.shape"
   ]
  },
  {
   "cell_type": "code",
   "execution_count": 8,
   "metadata": {},
   "outputs": [],
   "source": [
    "trainY = np.asarray(trainY)\n",
    "trainY = trainY.flatten()\n",
    "label_encoder = LabelEncoder()\n",
    "trainY = label_encoder.fit_transform(trainY)\n",
    "trainY = tf.keras.utils.to_categorical(trainY,num_classes=10)"
   ]
  },
  {
   "cell_type": "code",
   "execution_count": 9,
   "metadata": {},
   "outputs": [],
   "source": [
    "datagen = ImageDataGenerator(rescale=1.0/255.0)"
   ]
  },
  {
   "cell_type": "code",
   "execution_count": 10,
   "metadata": {},
   "outputs": [],
   "source": [
    "train_iterator = datagen.flow(trainX, trainY, batch_size=16)"
   ]
  },
  {
   "cell_type": "code",
   "execution_count": 11,
   "metadata": {},
   "outputs": [],
   "source": [
    "def get_conv_model():\n",
    "    model = Sequential()\n",
    "    model.add(Conv2D(64,kernel_size=3, activation = 'relu', input_shape=(288,432,3)))\n",
    "    model.add(Conv2D(32,kernel_size=3, activation = 'relu'))\n",
    "    model.add(MaxPool2D((2,2)))\n",
    "    model.add(Dropout(0.5))\n",
    "    model.add(Flatten())\n",
    "    model.add(Dense(32,activation='relu'))\n",
    "    model.add(Dense(10, activation='softmax'))\n",
    "    model.summary()\n",
    "    model.compile(loss='categorical_crossentropy', optimizer='adam', metrics=['acc'])\n",
    "    return model"
   ]
  },
  {
   "cell_type": "code",
   "execution_count": 12,
   "metadata": {},
   "outputs": [
    {
     "name": "stdout",
     "output_type": "stream",
     "text": [
      "Model: \"sequential_1\"\n",
      "_________________________________________________________________\n",
      "Layer (type)                 Output Shape              Param #   \n",
      "=================================================================\n",
      "conv2d_1 (Conv2D)            (None, 286, 430, 64)      1792      \n",
      "_________________________________________________________________\n",
      "conv2d_2 (Conv2D)            (None, 284, 428, 32)      18464     \n",
      "_________________________________________________________________\n",
      "max_pooling2d_1 (MaxPooling2 (None, 142, 214, 32)      0         \n",
      "_________________________________________________________________\n",
      "dropout_1 (Dropout)          (None, 142, 214, 32)      0         \n",
      "_________________________________________________________________\n",
      "flatten_1 (Flatten)          (None, 972416)            0         \n",
      "_________________________________________________________________\n",
      "dense_1 (Dense)              (None, 32)                31117344  \n",
      "_________________________________________________________________\n",
      "dense_2 (Dense)              (None, 10)                330       \n",
      "=================================================================\n",
      "Total params: 31,137,930\n",
      "Trainable params: 31,137,930\n",
      "Non-trainable params: 0\n",
      "_________________________________________________________________\n"
     ]
    }
   ],
   "source": [
    "conv_model = get_conv_model()"
   ]
  },
  {
   "cell_type": "code",
   "execution_count": 13,
   "metadata": {
    "scrolled": false
   },
   "outputs": [
    {
     "name": "stdout",
     "output_type": "stream",
     "text": [
      "Epoch 1/30\n",
      "19/19 [==============================] - 5s 254ms/step - loss: 4.7241 - acc: 0.0967\n",
      "Epoch 2/30\n",
      "19/19 [==============================] - 2s 100ms/step - loss: 1.9941 - acc: 0.3800\n",
      "Epoch 3/30\n",
      "19/19 [==============================] - 2s 98ms/step - loss: 1.1228 - acc: 0.6067\n",
      "Epoch 4/30\n",
      "19/19 [==============================] - 2s 98ms/step - loss: 0.5562 - acc: 0.8167\n",
      "Epoch 5/30\n",
      "19/19 [==============================] - 2s 98ms/step - loss: 0.3604 - acc: 0.9033\n",
      "Epoch 6/30\n",
      "19/19 [==============================] - 2s 99ms/step - loss: 0.2244 - acc: 0.9300\n",
      "Epoch 7/30\n",
      "19/19 [==============================] - 2s 98ms/step - loss: 0.2097 - acc: 0.9367\n",
      "Epoch 8/30\n",
      "19/19 [==============================] - 2s 98ms/step - loss: 0.0660 - acc: 0.9800\n",
      "Epoch 9/30\n",
      "19/19 [==============================] - 2s 98ms/step - loss: 0.0408 - acc: 0.9900\n",
      "Epoch 10/30\n",
      "19/19 [==============================] - 2s 98ms/step - loss: 0.0573 - acc: 0.9767\n",
      "Epoch 11/30\n",
      "19/19 [==============================] - 2s 98ms/step - loss: 0.0797 - acc: 0.9767\n",
      "Epoch 12/30\n",
      "19/19 [==============================] - 2s 98ms/step - loss: 0.0600 - acc: 0.9867\n",
      "Epoch 13/30\n",
      "19/19 [==============================] - 2s 98ms/step - loss: 0.0124 - acc: 0.9967\n",
      "Epoch 14/30\n",
      "19/19 [==============================] - 2s 98ms/step - loss: 0.0215 - acc: 0.9933\n",
      "Epoch 15/30\n",
      "19/19 [==============================] - 2s 98ms/step - loss: 0.0090 - acc: 1.0000\n",
      "Epoch 16/30\n",
      "19/19 [==============================] - 2s 98ms/step - loss: 0.0042 - acc: 1.0000\n",
      "Epoch 17/30\n",
      "19/19 [==============================] - 2s 98ms/step - loss: 0.0023 - acc: 1.0000\n",
      "Epoch 18/30\n",
      "19/19 [==============================] - 2s 98ms/step - loss: 0.0016 - acc: 1.0000\n",
      "Epoch 19/30\n",
      "19/19 [==============================] - 2s 99ms/step - loss: 0.0012 - acc: 1.0000\n",
      "Epoch 20/30\n",
      "19/19 [==============================] - 2s 98ms/step - loss: 9.9865e-04 - acc: 1.0000\n",
      "Epoch 21/30\n",
      "19/19 [==============================] - 2s 98ms/step - loss: 8.8391e-04 - acc: 1.0000\n",
      "Epoch 22/30\n",
      "19/19 [==============================] - 2s 98ms/step - loss: 7.7335e-04 - acc: 1.0000\n",
      "Epoch 23/30\n",
      "19/19 [==============================] - 2s 99ms/step - loss: 7.7014e-04 - acc: 1.0000\n",
      "Epoch 24/30\n",
      "19/19 [==============================] - 2s 98ms/step - loss: 6.8729e-04 - acc: 1.0000\n",
      "Epoch 25/30\n",
      "19/19 [==============================] - 2s 98ms/step - loss: 5.3417e-04 - acc: 1.0000\n",
      "Epoch 26/30\n",
      "19/19 [==============================] - 2s 99ms/step - loss: 5.3331e-04 - acc: 1.0000\n",
      "Epoch 27/30\n",
      "19/19 [==============================] - 2s 99ms/step - loss: 4.2316e-04 - acc: 1.0000\n",
      "Epoch 28/30\n",
      "19/19 [==============================] - 2s 98ms/step - loss: 4.5731e-04 - acc: 1.0000\n",
      "Epoch 29/30\n",
      "19/19 [==============================] - 2s 99ms/step - loss: 4.6452e-04 - acc: 1.0000\n",
      "Epoch 30/30\n",
      "19/19 [==============================] - 2s 99ms/step - loss: 3.9865e-04 - acc: 1.0000\n"
     ]
    }
   ],
   "source": [
    "cnnScores = conv_model.fit_generator(train_iterator, steps_per_epoch=len(train_iterator), epochs=30)\n",
    "# cnnScores = conv_model.fit(features,labels,epochs=30, batch_size=20, shuffle=False, validation_split=0.4)"
   ]
  },
  {
   "cell_type": "code",
   "execution_count": null,
   "metadata": {},
   "outputs": [],
   "source": [
    "#_, acc = model.evaluate_generator(test_iterator, steps=len(test_iterator), verbose=0)"
   ]
  },
  {
   "cell_type": "code",
   "execution_count": null,
   "metadata": {},
   "outputs": [],
   "source": [
    "cnnScores.history"
   ]
  },
  {
   "cell_type": "code",
   "execution_count": 14,
   "metadata": {},
   "outputs": [
    {
     "data": {
      "image/png": "[encoded data removed]",
      "text/plain": [
       "<Figure size 432x288 with 1 Axes>"
      ]
     },
     "metadata": {
      "needs_background": "light"
     },
     "output_type": "display_data"
    }
   ],
   "source": [
    "fig = plt.figure()\n",
    "fig.suptitle('CNN LOSS', fontsize=14)\n",
    "# pyplot.plot(cnnScores.history['val_loss'],label=\"CNN Train\", color=\"red\")\n",
    "plt.plot(cnnScores.history['loss'],label=\"CNN Train\", color=\"green\")\n",
    "\n",
    "plt.xlabel('epoch')\n",
    "plt.ylabel('loss(CE)')\n",
    "plt.legend()\n",
    "plt.show()"
   ]
  },
  {
   "cell_type": "code",
   "execution_count": null,
   "metadata": {},
   "outputs": [],
   "source": [
    "cuda.select_device(0)\n",
    "cuda.close()"
   ]
  },
  {
   "cell_type": "code",
   "execution_count": null,
   "metadata": {},
   "outputs": [],
   "source": []
  }
 ],
 "metadata": {
  "kernelspec": {
   "display_name": "Python 3",
   "language": "python",
   "name": "python3"
  },
  "language_info": {
   "codemirror_mode": {
    "name": "ipython",
    "version": 3
   },
   "file_extension": ".py",
   "mimetype": "text/x-python",
   "name": "python",
   "nbconvert_exporter": "python",
   "pygments_lexer": "ipython3",
   "version": "3.7.7"
  }
 },
 "nbformat": 4,
 "nbformat_minor": 4
}
