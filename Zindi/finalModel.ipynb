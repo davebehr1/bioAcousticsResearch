{
 "cells": [
  {
   "cell_type": "code",
   "execution_count": 2,
   "metadata": {},
   "outputs": [
    {
     "name": "stderr",
     "output_type": "stream",
     "text": [
      "Using TensorFlow backend.\n"
     ]
    }
   ],
   "source": [
    "import tensorflow as tf\n",
    "from tensorflow import keras\n",
    "import os\n",
    "import numpy as np\n",
    "from tqdm import tqdm\n",
    "import librosa\n",
    "from numba import cuda\n",
    "import librosa.display\n",
    "import gc\n",
    "import matplotlib.pyplot as plt\n",
    "import matplotlib.image as mpimg \n",
    "from sklearn.preprocessing import LabelEncoder\n",
    "from scipy import signal\n",
    "from scipy.io import wavfile as wav\n",
    "from numpy.lib import stride_tricks\n",
    "from keras.layers import Conv2D, MaxPool2D, Flatten, LSTM, Dense, Dropout\n",
    "from keras.models import Sequential\n",
    "from keras.utils import to_categorical\n",
    "from keras.preprocessing.image import ImageDataGenerator\n",
    "import pandas as pd"
   ]
  },
  {
   "cell_type": "code",
   "execution_count": 3,
   "metadata": {},
   "outputs": [],
   "source": [
    "gpus = tf.config.experimental.list_physical_devices('GPU')"
   ]
  },
  {
   "cell_type": "code",
   "execution_count": 4,
   "metadata": {},
   "outputs": [],
   "source": [
    "configuration = tf.compat.v1.ConfigProto()\n",
    "configuration.gpu_options.per_process_gpu_memory_fraction = 0.5\n",
    "tf.config.experimental.set_memory_growth(gpus[0],True)\n",
    "session = tf.compat.v1.Session(config=configuration)"
   ]
  },
  {
   "cell_type": "code",
   "execution_count": 5,
   "metadata": {},
   "outputs": [],
   "source": [
    "df = pd.read_csv('TrainZindi.csv')"
   ]
  },
  {
   "cell_type": "code",
   "execution_count": 6,
   "metadata": {},
   "outputs": [],
   "source": [
    "def build_feats():\n",
    "    X = []\n",
    "    Y = []\n",
    "    for image in tqdm(os.listdir('./spectrograms/')):\n",
    "        X.append(mpimg.imread('./spectrograms/' + image))\n",
    "        temp = image.split('.')\n",
    "#         wavFile = temp[0] + '.wav'\n",
    "#         print(wavFile)\n",
    "        classname =df[df.ID == temp[0]].common_name.values\n",
    "        Y.append(classname[0])\n",
    "    \n",
    "    X = np.asarray(X)\n",
    "    return X,Y"
   ]
  },
  {
   "cell_type": "code",
   "execution_count": 7,
   "metadata": {},
   "outputs": [
    {
     "name": "stderr",
     "output_type": "stream",
     "text": [
      "100%|█████████████████████████████████████| 1857/1857 [00:03<00:00, 480.21it/s]\n"
     ]
    }
   ],
   "source": [
    "trainX,trainY = build_feats()"
   ]
  },
  {
   "cell_type": "code",
   "execution_count": 20,
   "metadata": {},
   "outputs": [
    {
     "data": {
      "text/plain": [
       "array([[[ 31, 157, 133],\n",
       "        [ 30, 157, 130],\n",
       "        [ 31, 160, 129],\n",
       "        ...,\n",
       "        [169, 220,  53],\n",
       "        [177, 221,  46],\n",
       "        [180, 219,  40]],\n",
       "\n",
       "       [[ 33, 156, 138],\n",
       "        [ 32, 155, 135],\n",
       "        [ 32, 158, 134],\n",
       "        ...,\n",
       "        [156, 221,  65],\n",
       "        [164, 222,  60],\n",
       "        [166, 221,  55]],\n",
       "\n",
       "       [[ 30, 147, 139],\n",
       "        [ 27, 147, 137],\n",
       "        [ 29, 150, 135],\n",
       "        ...,\n",
       "        [119, 206,  75],\n",
       "        [125, 207,  71],\n",
       "        [126, 207,  68]],\n",
       "\n",
       "       ...,\n",
       "\n",
       "       [[ 68,   0,  83],\n",
       "        [ 68,   0,  83],\n",
       "        [ 68,   0,  83],\n",
       "        ...,\n",
       "        [ 68,   0,  83],\n",
       "        [ 68,   0,  83],\n",
       "        [ 68,   0,  83]],\n",
       "\n",
       "       [[ 68,   0,  83],\n",
       "        [ 68,   0,  83],\n",
       "        [ 68,   0,  83],\n",
       "        ...,\n",
       "        [ 68,   0,  83],\n",
       "        [ 68,   0,  83],\n",
       "        [ 68,   0,  83]],\n",
       "\n",
       "       [[ 68,   0,  83],\n",
       "        [ 68,   0,  83],\n",
       "        [ 68,   0,  83],\n",
       "        ...,\n",
       "        [ 68,   0,  83],\n",
       "        [ 68,   0,  83],\n",
       "        [ 68,   0,  83]]], dtype=uint8)"
      ]
     },
     "execution_count": 20,
     "metadata": {},
     "output_type": "execute_result"
    }
   ],
   "source": [
    "trainX[31]"
   ]
  },
  {
   "cell_type": "code",
   "execution_count": 9,
   "metadata": {},
   "outputs": [],
   "source": [
    "trainY = np.asarray(trainY)\n",
    "trainY = trainY.flatten()\n",
    "label_encoder = LabelEncoder()\n",
    "trainY = label_encoder.fit_transform(trainY)\n",
    "trainY = tf.keras.utils.to_categorical(trainY,num_classes=40)"
   ]
  },
  {
   "cell_type": "code",
   "execution_count": 10,
   "metadata": {},
   "outputs": [],
   "source": [
    "datagen = ImageDataGenerator(rescale=1.0/255.0)"
   ]
  },
  {
   "cell_type": "code",
   "execution_count": 21,
   "metadata": {},
   "outputs": [],
   "source": [
    "train_iterator = datagen.flow(trainX, trainY, batch_size=32)"
   ]
  },
  {
   "cell_type": "code",
   "execution_count": 22,
   "metadata": {},
   "outputs": [],
   "source": [
    "def get_conv_model():\n",
    "    model = Sequential()\n",
    "    model.add(Conv2D(64,kernel_size=3, activation = 'relu', input_shape=(288,432,3)))\n",
    "    model.add(Conv2D(32,kernel_size=3, activation = 'relu'))\n",
    "    model.add(MaxPool2D((2,2)))\n",
    "    model.add(Dropout(0.5))\n",
    "    model.add(Flatten())\n",
    "    model.add(Dense(32,activation='relu'))\n",
    "    model.add(Dense(40, activation='softmax'))\n",
    "    model.summary()\n",
    "    model.compile(loss='categorical_crossentropy', optimizer='adam', metrics=['acc'])\n",
    "    return model"
   ]
  },
  {
   "cell_type": "code",
   "execution_count": null,
   "metadata": {},
   "outputs": [],
   "source": [
    "conv_model = get_conv_model()"
   ]
  },
  {
   "cell_type": "code",
   "execution_count": null,
   "metadata": {
    "scrolled": false
   },
   "outputs": [],
   "source": [
    "cnnScores = conv_model.fit_generator(train_iterator, steps_per_epoch=len(train_iterator), epochs=30)\n",
    "# cnnScores = conv_model.fit(features,labels,epochs=30, batch_size=20, shuffle=False, validation_split=0.4)"
   ]
  },
  {
   "cell_type": "code",
   "execution_count": null,
   "metadata": {},
   "outputs": [],
   "source": [
    "#_, acc = model.evaluate_generator(test_iterator, steps=len(test_iterator), verbose=0)"
   ]
  },
  {
   "cell_type": "code",
   "execution_count": 15,
   "metadata": {},
   "outputs": [
    {
     "data": {
      "text/plain": [
       "{'loss': [3.9012020964358016,\n",
       "  3.6684354729208177,\n",
       "  3.654707214302059,\n",
       "  3.643485925116716,\n",
       "  3.635941943110608,\n",
       "  3.6314705549290442,\n",
       "  3.628726181447281,\n",
       "  3.6271924112327136,\n",
       "  3.626226490135789,\n",
       "  3.625922460997689,\n",
       "  3.6255915944269415,\n",
       "  3.625324437486015,\n",
       "  3.625222200466602,\n",
       "  3.6251605739501067,\n",
       "  3.62534096963828,\n",
       "  3.625088283690831,\n",
       "  3.625179385522648,\n",
       "  3.625216857425359,\n",
       "  3.6250745913773117,\n",
       "  3.6250229106516882,\n",
       "  3.6249144276304146,\n",
       "  3.625078727432522,\n",
       "  3.625000156121159,\n",
       "  3.6250519269759383,\n",
       "  3.6251061698346607,\n",
       "  3.6250943829439377,\n",
       "  3.625049871851439,\n",
       "  3.625225393247014,\n",
       "  3.6251651765713464,\n",
       "  3.6250095742327844],\n",
       " 'acc': [0.039849218,\n",
       "  0.040387724,\n",
       "  0.044157244,\n",
       "  0.053850297,\n",
       "  0.053850297,\n",
       "  0.053850297,\n",
       "  0.053850297,\n",
       "  0.053850297,\n",
       "  0.053850297,\n",
       "  0.053850297,\n",
       "  0.053850297,\n",
       "  0.053850297,\n",
       "  0.053850297,\n",
       "  0.053850297,\n",
       "  0.053850297,\n",
       "  0.053850297,\n",
       "  0.053850297,\n",
       "  0.053850297,\n",
       "  0.053850297,\n",
       "  0.053850297,\n",
       "  0.053850297,\n",
       "  0.053850297,\n",
       "  0.053850297,\n",
       "  0.053850297,\n",
       "  0.053850297,\n",
       "  0.053850297,\n",
       "  0.053850297,\n",
       "  0.053850297,\n",
       "  0.053850297,\n",
       "  0.053850297]}"
      ]
     },
     "execution_count": 15,
     "metadata": {},
     "output_type": "execute_result"
    }
   ],
   "source": [
    "cnnScores.history"
   ]
  },
  {
   "cell_type": "code",
   "execution_count": 16,
   "metadata": {},
   "outputs": [
    {
     "data": {
      "image/png": "[encoded data removed]",
      "text/plain": [
       "<Figure size 432x288 with 1 Axes>"
      ]
     },
     "metadata": {
      "needs_background": "light"
     },
     "output_type": "display_data"
    }
   ],
   "source": [
    "fig = plt.figure()\n",
    "fig.suptitle('CNN LOSS', fontsize=14)\n",
    "# pyplot.plot(cnnScores.history['val_loss'],label=\"CNN Train\", color=\"red\")\n",
    "plt.plot(cnnScores.history['loss'],label=\"CNN Train\", color=\"green\")\n",
    "\n",
    "plt.xlabel('epoch')\n",
    "plt.ylabel('loss(CE)')\n",
    "plt.legend()\n",
    "plt.show()"
   ]
  },
  {
   "cell_type": "code",
   "execution_count": 17,
   "metadata": {},
   "outputs": [],
   "source": [
    "cuda.select_device(0)\n",
    "cuda.close()"
   ]
  },
  {
   "cell_type": "code",
   "execution_count": null,
   "metadata": {},
   "outputs": [],
   "source": []
  }
 ],
 "metadata": {
  "kernelspec": {
   "display_name": "Python 3",
   "language": "python",
   "name": "python3"
  },
  "language_info": {
   "codemirror_mode": {
    "name": "ipython",
    "version": 3
   },
   "file_extension": ".py",
   "mimetype": "text/x-python",
   "name": "python",
   "nbconvert_exporter": "python",
   "pygments_lexer": "ipython3",
   "version": "3.7.7"
  }
 },
 "nbformat": 4,
 "nbformat_minor": 4
}
