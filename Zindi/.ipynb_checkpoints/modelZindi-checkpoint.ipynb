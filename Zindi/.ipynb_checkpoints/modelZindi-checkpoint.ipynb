{
 "cells": [
  {
   "cell_type": "code",
   "execution_count": null,
   "metadata": {},
   "outputs": [
    {
     "name": "stderr",
     "output_type": "stream",
     "text": [
      "Using TensorFlow backend.\n"
     ]
    },
    {
     "name": "stdout",
     "output_type": "stream",
     "text": [
      "ID\n",
      "common_name\n"
     ]
    }
   ],
   "source": [
    "import os\n",
    "from scipy.io import wavfile\n",
    "import pandas as pd\n",
    "import matplotlib.pyplot as plt\n",
    "import numpy as np \n",
    "from keras.layers import Conv2D, MaxPool2D, Flatten, LSTM, Dense, Dropout\n",
    "from keras.models import Sequential\n",
    "from keras.utils import to_categorical\n",
    "from sklearn.utils.class_weight import compute_class_weight\n",
    "from tqdm import tqdm\n",
    "from python_speech_features import mfcc\n",
    "from ipynb.fs.full.preprocessingZindi import calc_fft\n",
    "import pickle\n",
    "from keras.callbacks import ModelCheckpoint\n",
    "from ipynb.fs.full.cfg import Config"
   ]
  },
  {
   "cell_type": "code",
   "execution_count": null,
   "metadata": {},
   "outputs": [],
   "source": []
  },
  {
   "cell_type": "code",
   "execution_count": null,
   "metadata": {},
   "outputs": [],
   "source": [
    "config = Config(mode='conv')"
   ]
  },
  {
   "cell_type": "code",
   "execution_count": null,
   "metadata": {},
   "outputs": [],
   "source": [
    "def check_data():\n",
    "    if os.path.isfile(config.p_path):\n",
    "        \n",
    "        print('Loading existing data for {} model'. format(config.mode))\n",
    "        with open(config.p_path,'rb') as handle:\n",
    "            tmp = pickle.load(handle)\n",
    "            return tmp\n",
    "    else:\n",
    "        return None"
   ]
  },
  {
   "cell_type": "code",
   "execution_count": null,
   "metadata": {},
   "outputs": [],
   "source": [
    "def build_rand_feat():\n",
    "    tmp = check_data()\n",
    "    if tmp:\n",
    "        print(\"reading temp data:\")\n",
    "        return tmp.data[0], tmp.data[1]\n",
    "    X = []\n",
    "    y = []\n",
    "    _min,_max = float('inf'),-float('inf')\n",
    "    for _ in tqdm(range(n_samples)):\n",
    "        rand_class = np.random.choice(class_dist.index,p=prob_dist)\n",
    "        file = np.random.choice(df[df.common_name==rand_class].index)\n",
    "        rate,wav = wavfile.read('ZindiCleaned/' + file + '.wav')\n",
    "        label = df.at[file,'common_name']\n",
    "        rand_index = np.random.randint(0,wav.shape[0]-config.step)\n",
    "        sample = wav[rand_index:rand_index+config.step]\n",
    "        X_sample = mfcc(sample,rate,numcep=config.nfeat, nfilt=config.nfilt, nfft=config.nfft).T\n",
    "        _min = min(np.amin(X_sample),_min)\n",
    "        _max=max(np.amax(X_sample),_max)\n",
    "        X.append(X_sample)\n",
    "        y.append(classes.index(label))\n",
    "    config.min = _min\n",
    "    config.max = _max\n",
    "    \n",
    "    X,y = np.array(X), np.array(y)\n",
    "    X =(X -_min) /(_max - _min)\n",
    "    if config.mode == 'conv':\n",
    "        X = X.reshape(X.shape[0],X.shape[1], X.shape[2],1)\n",
    "    elif config.mode == 'time':\n",
    "        X = X.reshape(X.shape[0], X.shape[1], X.shape[2])\n",
    "    y = to_categorical(y,num_classes=40)\n",
    "    config.data = (X,y)\n",
    "    with open(config.p_path,'wb') as handle:\n",
    "        pickle.dump(config,handle,protocol=2)\n",
    "    \n",
    "    return X,y"
   ]
  },
  {
   "cell_type": "code",
   "execution_count": null,
   "metadata": {},
   "outputs": [],
   "source": [
    "def get_conv_model():\n",
    "    model = Sequential()\n",
    "    model.add(Conv2D(16,(3,3), activation = 'relu', strides=(1,1),\n",
    "                    padding ='same', input_shape=input_shape))\n",
    "    model.add(Conv2D(32,(3,3), activation = 'relu', strides=(1,1),\n",
    "                    padding ='same'))\n",
    "    model.add(Conv2D(64,(3,3), activation = 'relu', strides=(1,1),\n",
    "                    padding ='same'))\n",
    "    model.add(Conv2D(128,(3,3), activation = 'relu', strides=(1,1),\n",
    "                    padding ='same'))\n",
    "    model.add(MaxPool2D((2,2)))\n",
    "    model.add(Dropout(0.5))\n",
    "    model.add(Flatten())\n",
    "    model.add(Dense(128,activation='relu'))\n",
    "    model.add(Dense(64, activation ='relu'))\n",
    "    model.add(Dense(40, activation='softmax'))\n",
    "    model.summary()\n",
    "    model.compile(loss='categorical_crossentropy', optimizer='adam', metrics=['acc'])\n",
    "    print(type(model))\n",
    "    return model"
   ]
  },
  {
   "cell_type": "code",
   "execution_count": null,
   "metadata": {},
   "outputs": [],
   "source": [
    "df = pd.read_csv('TrainZindi.csv')\n",
    "df.set_index('ID', inplace=True)\n",
    "\n",
    "for f in df.index:\n",
    "    rate, signal = wavfile.read('ZindiCleaned/'+f + '.wav')\n",
    "    df.at[f, 'length'] = signal.shape[0]/rate\n",
    "\n",
    "classes = list(np.unique(df.common_name))\n",
    "class_dist = df.groupby(['common_name'])['length'].mean()\n",
    "\n",
    "n_samples = 2 * int(df['length'].sum()/0.1)\n",
    "prob_dist = class_dist /class_dist.sum()\n",
    "choices = np.random.choice(class_dist.index, p=prob_dist)\n",
    "\n",
    "\n",
    "\n",
    "fig, ax = plt.subplots()\n",
    "ax.set_title('Class Distribution', y=1.08)\n",
    "ax.pie(class_dist, labels=class_dist.index, autopct='%1.1f%%',\n",
    "       shadow=False, startangle=90)\n",
    "ax.axis('equal')\n",
    "plt.show()"
   ]
  },
  {
   "cell_type": "code",
   "execution_count": null,
   "metadata": {},
   "outputs": [],
   "source": [
    "classes = list(np.unique(df.common_name))\n",
    "len(classes)"
   ]
  },
  {
   "cell_type": "code",
   "execution_count": null,
   "metadata": {},
   "outputs": [],
   "source": [
    "print(choices)\n",
    "print(type (choices))"
   ]
  },
  {
   "cell_type": "code",
   "execution_count": null,
   "metadata": {},
   "outputs": [],
   "source": [
    "# if config.mode == 'conv':\n",
    "x,y = build_rand_feat()\n",
    "y_flat = np.argmax(y,axis=1)\n",
    "input_shape = (x.shape[1], x.shape[2],1)\n",
    "conv_model = get_conv_model()\n",
    "# elif config.mode == 'time':\n",
    "#     x,y = build_rand_feat()\n",
    "#     y_flat = np.argmax(y,axis=1)\n",
    "#     input_shape=(x.shape[1], x.shape[2])\n",
    "#     model = get_recurrent_model()"
   ]
  },
  {
   "cell_type": "code",
   "execution_count": null,
   "metadata": {},
   "outputs": [],
   "source": [
    "class_weight = compute_class_weight('balanced', np.unique(y_flat), y_flat)"
   ]
  },
  {
   "cell_type": "code",
   "execution_count": null,
   "metadata": {},
   "outputs": [],
   "source": [
    "checkpoint  = ModelCheckpoint(config.model_path, monitor='val_acc',verbose=1, mode='max', save_best_only=True\n",
    "                              , save_weights_only=False,period=1)"
   ]
  },
  {
   "cell_type": "code",
   "execution_count": null,
   "metadata": {},
   "outputs": [],
   "source": [
    "conv_model.fit(x,y,epochs=10, batch_size=32, shuffle=True, class_weight=class_weight, validation_split=0.1,\n",
    "              callbacks=[checkpoint])"
   ]
  },
  {
   "cell_type": "code",
   "execution_count": null,
   "metadata": {},
   "outputs": [],
   "source": [
    "conv_model.save(config.model_path)"
   ]
  },
  {
   "cell_type": "code",
   "execution_count": null,
   "metadata": {},
   "outputs": [],
   "source": [
    "x.shape\n",
    "df.head()"
   ]
  },
  {
   "cell_type": "code",
   "execution_count": null,
   "metadata": {},
   "outputs": [],
   "source": []
  },
  {
   "cell_type": "code",
   "execution_count": null,
   "metadata": {},
   "outputs": [],
   "source": []
  }
 ],
 "metadata": {
  "kernelspec": {
   "display_name": "Python 3",
   "language": "python",
   "name": "python3"
  },
  "language_info": {
   "codemirror_mode": {
    "name": "ipython",
    "version": 3
   },
   "file_extension": ".py",
   "mimetype": "text/x-python",
   "name": "python",
   "nbconvert_exporter": "python",
   "pygments_lexer": "ipython3",
   "version": "3.7.7"
  }
 },
 "nbformat": 4,
 "nbformat_minor": 4
}
